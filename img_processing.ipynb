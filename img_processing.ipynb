{
 "cells": [
  {
   "cell_type": "code",
   "execution_count": 4,
   "id": "bbd9222c-7eba-4297-8123-e1418efbea11",
   "metadata": {
    "tags": []
   },
   "outputs": [],
   "source": [
    "import cv2 \n",
    "import os"
   ]
  },
  {
   "cell_type": "code",
   "execution_count": 5,
   "id": "d577ffc3-632f-4aae-b75c-107a050a3e37",
   "metadata": {
    "tags": []
   },
   "outputs": [],
   "source": [
    "all_images_names=[]\n",
    "new_height=224\n",
    "new_width=224\n",
    "output_path=os.path.join(os.getcwd(),\"data\",\"images\")\n",
    "for folders in os.listdir(os.path.join(os.getcwd(),\"self collected\")):\n",
    "    if (os.path.isdir(os.path.join(os.getcwd(),\"self collected\",folders))):\n",
    "        #print(os.listdir(os.path.join(os.getcwd(),\"self collected\",folders)))\n",
    "        for files in os.listdir(os.path.join(os.getcwd(),\"self collected\",folders)):\n",
    "            if (files.split(\".\")[1]==\"JPG\"):\n",
    "                #print(files)\n",
    "                image=cv2.imread(os.path.join(os.getcwd(),\"self collected\",folders,files))\n",
    "                if image is not None:\n",
    "                    resized_image = cv2.resize(image, (new_width, new_height))\n",
    "                    output_file = os.path.join(output_path, files)\n",
    "                    cv2.imwrite(output_file, resized_image)\n",
    "                \n",
    "                \n",
    "                \n",
    "                "
   ]
  },
  {
   "cell_type": "code",
   "execution_count": 4,
   "id": "c59e3d12-da41-45af-9dc5-36f11734b1e4",
   "metadata": {},
   "outputs": [],
   "source": [
    "#go to labeling"
   ]
  },
  {
   "cell_type": "code",
   "execution_count": null,
   "id": "0e621f89-d2a8-464d-b3fb-8cac1686bbef",
   "metadata": {},
   "outputs": [],
   "source": []
  }
 ],
 "metadata": {
  "kernelspec": {
   "display_name": "fftsd",
   "language": "python",
   "name": "fftsd"
  },
  "language_info": {
   "codemirror_mode": {
    "name": "ipython",
    "version": 3
   },
   "file_extension": ".py",
   "mimetype": "text/x-python",
   "name": "python",
   "nbconvert_exporter": "python",
   "pygments_lexer": "ipython3",
   "version": "3.11.5"
  }
 },
 "nbformat": 4,
 "nbformat_minor": 5
}
