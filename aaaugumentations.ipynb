{
  "cells": [
    {
      "cell_type": "markdown",
      "metadata": {
        "id": "view-in-github",
        "colab_type": "text"
      },
      "source": [
        "<a href=\"https://colab.research.google.com/github/AadityaAdh/Traffic_sign_recognition/blob/main/aaaugumentations.ipynb\" target=\"_parent\"><img src=\"https://colab.research.google.com/assets/colab-badge.svg\" alt=\"Open In Colab\"/></a>"
      ]
    },
    {
      "cell_type": "code",
      "execution_count": null,
      "metadata": {
        "id": "KWQnFEy_bLU6"
      },
      "outputs": [],
      "source": []
    },
    {
      "cell_type": "code",
      "execution_count": 1,
      "metadata": {
        "colab": {
          "base_uri": "https://localhost:8080/"
        },
        "id": "xr8Y64IUbOYk",
        "outputId": "da2ebf9a-dda3-4260-9fc3-4a5f2ebba979"
      },
      "outputs": [
        {
          "output_type": "stream",
          "name": "stdout",
          "text": [
            "Mounted at /content/drive\n"
          ]
        }
      ],
      "source": [
        "from google.colab import drive\n",
        "drive.mount('/content/drive')"
      ]
    },
    {
      "cell_type": "code",
      "execution_count": 2,
      "metadata": {
        "id": "Rr_hWuOpgCwu"
      },
      "outputs": [],
      "source": [
        "import albumentations as alb\n",
        "import cv2\n",
        "import matplotlib.pyplot as plt\n",
        "import os\n",
        "import json\n",
        "import numpy as np"
      ]
    },
    {
      "cell_type": "code",
      "source": [
        "augmentor = alb.Compose([alb.RandomCrop(width=224, height=224),\n",
        "                         alb.RandomBrightnessContrast(p=0.2),\n",
        "                         alb.RandomGamma(p=0.2),\n",
        "                         alb.RGBShift(p=0.2)],\n",
        "                       bbox_params=alb.BboxParams(format='albumentations',\n",
        "                                                  label_fields=['class_labels']))"
      ],
      "metadata": {
        "id": "igJVaHF77kcR"
      },
      "execution_count": 3,
      "outputs": []
    },
    {
      "cell_type": "code",
      "source": [
        "for folder in ['train','valid']:\n",
        "    for file in os.listdir(os.path.join('/content','drive','MyDrive','data',folder,'images')):\n",
        "        file_arr=file.split('.')\n",
        "        extension=file_arr[1]\n",
        "        if(extension=='JPG'):\n",
        "            img=cv2.imread(os.path.join('/content','drive','MyDrive','data',folder,'images',file))\n",
        "            label_file=os.path.join('/content','drive','MyDrive','data',folder,'labels',f'{file_arr[0]}.json')\n",
        "            #below two line for no face in image\n",
        "            my_label=[0]\n",
        "            coords = [0,0,0.00001,0.00001]\n",
        "            if os.path.exists(label_file):\n",
        "                with open(label_file, 'r') as f:\n",
        "                    my_json_file=json.load(f)\n",
        "                    #print(my_json_file['shapes'][0]['points'])\n",
        "                    if(my_json_file['shapes'][0]['label']==\"Aaditya\"):\n",
        "                        my_label=[1]\n",
        "                        #print(1)\n",
        "                    coords[0] = my_json_file['shapes'][0]['points'][0][0]\n",
        "                    coords[1] = my_json_file['shapes'][0]['points'][0][1]\n",
        "                    coords[2] = my_json_file['shapes'][0]['points'][1][0]\n",
        "                    coords[3] = my_json_file['shapes'][0]['points'][1][1]\n",
        "                    coords = list(np.divide(coords, [1280,720,1280,720]))\n",
        "            try:\n",
        "                for x in range(30):\n",
        "                    augmented = augmentor(image=img, bboxes=[coords], class_labels=my_label)\n",
        "                    cv2.imwrite(os.path.join('/content','drive','MyDrive','aug_data', folder, 'images', f'{file.split(\".\")[0]}.{x}.JPG'), augmented['image'])\n",
        "\n",
        "                    annotation={}\n",
        "                    annotation['image']=file\n",
        "                    if os.path.exists(label_file):\n",
        "                        if len(augmented['bboxes']) == 0:\n",
        "                            #yo case vanae ko albumnetation garda resize haru zoom haru vayae ra vako face pani\n",
        "                            #image bata hatna sakxa tesko lagi ho\n",
        "                            #so no face ko class dini\n",
        "                            annotation['bbox'] = [0,0,0,0]\n",
        "                            annotation['class'] = \"no_sign\"\n",
        "                        else:\n",
        "                            annotation['bbox'] = augmented['bboxes'][0]\n",
        "                            annotation['class']=my_json_file['shapes'][0]['label']\n",
        "\n",
        "                    else:\n",
        "                        #this  the case of pailei kunai face xaina\n",
        "                        annotation['bbox'] = [0,0,0,0]\n",
        "                        annotation['class'] = \"no_sign\"\n",
        "\n",
        "                    with open(os.path.join('/content','drive','MyDrive','aug_data', folder, 'labels', f'{file.split(\".\")[0]}.{x}.json'), 'w') as f:\n",
        "                        json.dump(annotation, f)\n",
        "\n",
        "\n",
        "\n",
        "            except Exception as e:\n",
        "                print(e)\n",
        "\n",
        "\n",
        "\n",
        "\n",
        "\n",
        "\n",
        "\n"
      ],
      "metadata": {
        "id": "BqJPDnET7kRT"
      },
      "execution_count": 4,
      "outputs": []
    },
    {
      "cell_type": "code",
      "execution_count": 5,
      "metadata": {
        "id": "xgysECPahDgI"
      },
      "outputs": [],
      "source": [
        "import tensorflow as tf\n",
        "import cv2\n",
        "import json\n",
        "import matplotlib.pyplot as plt"
      ]
    },
    {
      "cell_type": "code",
      "source": [
        "def load_image(x):\n",
        "    byte_img = tf.io.read_file(x)\n",
        "    img = tf.io.decode_jpeg(byte_img)\n",
        "    return img"
      ],
      "metadata": {
        "id": "zxTOi1cRxDhr"
      },
      "execution_count": 6,
      "outputs": []
    },
    {
      "cell_type": "code",
      "source": [
        "train_images=tf.data.Dataset.list_files('/content/drive/MyDrive/aug_data/train/images/*.JPG',shuffle=False)\n",
        "train_images = train_images.map(load_image)\n",
        "train_images = train_images.map(lambda x: tf.image.resize(x, (120,120)))\n",
        "train_images = train_images.map(lambda x: x/255)\n"
      ],
      "metadata": {
        "id": "mW3KOIWRxIAe"
      },
      "execution_count": 7,
      "outputs": []
    },
    {
      "cell_type": "code",
      "source": [
        "val_images=tf.data.Dataset.list_files('/content/drive/MyDrive/aug_data/valid/images/*.JPG',shuffle=False)\n",
        "val_images = val_images.map(load_image)\n",
        "val_images = val_images.map(lambda x: tf.image.resize(x, (120,120)))\n",
        "val_images = val_images.map(lambda x: x/255)\n"
      ],
      "metadata": {
        "id": "y6Ga0s5qxQHL"
      },
      "execution_count": 8,
      "outputs": []
    },
    {
      "cell_type": "code",
      "source": [
        "def load_labels(x):\n",
        "    label_file = x.numpy().decode(\"utf-8\")\n",
        "    with open(label_file, \"r\") as f:\n",
        "        my_json_object = json.load(f)\n",
        "        label = my_json_object[\"class\"].lower()\n",
        "        if label == \"thirty\":\n",
        "            return tf.constant([1,0,0,0,0,0,0,0,0,0,0,0,0,0,0], dtype=tf.float32)\n",
        "        elif label == \"fifty\":\n",
        "            return tf.constant([0,1,0,0,0,0,0,0,0,0,0,0,0,0,0], dtype=tf.float32)\n",
        "        elif label == \"children\":\n",
        "            return tf.constant([0,0,1,0,0,0,0,0,0,0,0,0,0,0,0], dtype=tf.float32)\n",
        "        elif label == \"left_turning\":\n",
        "            return tf.constant([0,0,0,1,0,0,0,0,0,0,0,0,0,0,0], dtype=tf.float32)\n",
        "        elif label == \"no_entry\":\n",
        "            return tf.constant([0,0,0,0,1,0,0,0,0,0,0,0,0,0,0], dtype=tf.float32)\n",
        "        elif label == \"no_horn\":\n",
        "            return tf.constant([0,0,0,0,0,1,0,0,0,0,0,0,0,0,0], dtype=tf.float32)\n",
        "        elif label == \"no_parking\":\n",
        "            return tf.constant([0,0,0,0,0,0,1,0,0,0,0,0,0,0,0], dtype=tf.float32)\n",
        "        elif label == \"no_stopping\":\n",
        "            return tf.constant([0,0,0,0,0,0,0,1,0,0,0,0,0,0,0], dtype=tf.float32)\n",
        "        elif label == \"right_turning\":\n",
        "            return tf.constant([0,0,0,0,0,0,0,0,1,0,0,0,0,0,0], dtype=tf.float32)\n",
        "        elif label == \"slope\":\n",
        "            return tf.constant([0,0,0,0,0,0,0,0,0,1,0,0,0,0,0], dtype=tf.float32)\n",
        "        elif label == \"straight_or_left\":\n",
        "            return tf.constant([0,0,0,0,0,0,0,0,0,0,1,0,0,0,0], dtype=tf.float32)\n",
        "        elif label == \"straight_or_right\":\n",
        "            return tf.constant([0,0,0,0,0,0,0,0,0,0,0,1,0,0,0], dtype=tf.float32)\n",
        "        elif label == \"uturn\":\n",
        "            return tf.constant([0,0,0,0,0,0,0,0,0,0,0,0,1,0,0], dtype=tf.float32)\n",
        "        elif label == \"zebra\":\n",
        "            return tf.constant([0,0,0,0,0,0,0,0,0,0,0,0,0,1,0], dtype=tf.float32)\n",
        "        elif label == \"no_sign\":\n",
        "            return tf.constant([0,0,0,0,0,0,0,0,0,0,0,0,0,0,1], dtype=tf.float32)\n",
        "\n",
        "\n"
      ],
      "metadata": {
        "id": "1WNc8w9gxS6B"
      },
      "execution_count": 9,
      "outputs": []
    },
    {
      "cell_type": "code",
      "source": [
        "train_labels = tf.data.Dataset.list_files('/content/drive/MyDrive/aug_data/train/labels/*.json', shuffle=False)\n",
        "train_labels=train_labels.map(lambda x :tf.py_function(load_labels,[x],tf.float32))"
      ],
      "metadata": {
        "id": "BDQn9pw9xV7m"
      },
      "execution_count": 10,
      "outputs": []
    },
    {
      "cell_type": "code",
      "source": [
        "val_labels = tf.data.Dataset.list_files('/content/drive/MyDrive/aug_data/valid/labels/*.json', shuffle=False)\n",
        "val_labels=val_labels.map(lambda x :tf.py_function(load_labels,[x],tf.float32))"
      ],
      "metadata": {
        "id": "8Uqlv0uyxZVq"
      },
      "execution_count": 11,
      "outputs": []
    },
    {
      "cell_type": "code",
      "source": [
        "len(train_images)"
      ],
      "metadata": {
        "colab": {
          "base_uri": "https://localhost:8080/"
        },
        "id": "RWId0Iekxc2T",
        "outputId": "52962c7f-9f68-43bf-9363-824f2e343aba"
      },
      "execution_count": 12,
      "outputs": [
        {
          "output_type": "execute_result",
          "data": {
            "text/plain": [
              "16770"
            ]
          },
          "metadata": {},
          "execution_count": 12
        }
      ]
    },
    {
      "cell_type": "code",
      "source": [
        "len(train_labels)"
      ],
      "metadata": {
        "colab": {
          "base_uri": "https://localhost:8080/"
        },
        "id": "lWh6PMEJxfeQ",
        "outputId": "f7aa0e90-bc37-4f52-d1a9-19e29ec0edb5"
      },
      "execution_count": 13,
      "outputs": [
        {
          "output_type": "execute_result",
          "data": {
            "text/plain": [
              "16770"
            ]
          },
          "metadata": {},
          "execution_count": 13
        }
      ]
    },
    {
      "cell_type": "code",
      "source": [
        "len(val_images)"
      ],
      "metadata": {
        "colab": {
          "base_uri": "https://localhost:8080/"
        },
        "id": "r8PuRyTPxiXc",
        "outputId": "69288bc9-954d-43db-8d07-3e4f707a45ec"
      },
      "execution_count": 14,
      "outputs": [
        {
          "output_type": "execute_result",
          "data": {
            "text/plain": [
              "3630"
            ]
          },
          "metadata": {},
          "execution_count": 14
        }
      ]
    },
    {
      "cell_type": "code",
      "source": [
        "len(val_labels)"
      ],
      "metadata": {
        "colab": {
          "base_uri": "https://localhost:8080/"
        },
        "id": "RP_Uq_cIxkmh",
        "outputId": "acc9b70f-37e8-4a14-a0cc-65038935da21"
      },
      "execution_count": 15,
      "outputs": [
        {
          "output_type": "execute_result",
          "data": {
            "text/plain": [
              "3630"
            ]
          },
          "metadata": {},
          "execution_count": 15
        }
      ]
    },
    {
      "cell_type": "code",
      "source": [
        "train = tf.data.Dataset.zip((train_images, train_labels))\n",
        "train = train.shuffle(5000)\n",
        "train = train.batch(64)\n",
        "train = train.prefetch(32)"
      ],
      "metadata": {
        "id": "gLSV8VjqxnY7"
      },
      "execution_count": 32,
      "outputs": []
    },
    {
      "cell_type": "code",
      "source": [
        "val = tf.data.Dataset.zip((val_images, val_labels))\n",
        "val = val.shuffle(1000)\n",
        "val = val.batch(64)\n",
        "val = val.prefetch(32)"
      ],
      "metadata": {
        "id": "iDqgwH6fxqHK"
      },
      "execution_count": 33,
      "outputs": []
    },
    {
      "cell_type": "code",
      "source": [],
      "metadata": {
        "id": "m77ySDI6jpnY"
      },
      "execution_count": null,
      "outputs": []
    },
    {
      "cell_type": "code",
      "source": [
        "import tensorflow as tf\n",
        "from tensorflow.keras.layers import Conv2D, MaxPool2D, Flatten, Dense, Dropout,InputLayer,BatchNormalization\n",
        "\n",
        "\n",
        "model1=tf.keras.Sequential([\n",
        "    InputLayer((120,120,3)),\n",
        "    Conv2D(filters=32,kernel_size=3,strides=1,padding=\"same\",activation=\"relu\"),\n",
        "    BatchNormalization(),\n",
        "    Conv2D(filters=32,kernel_size=3,strides=1,padding=\"same\",activation=\"relu\"),\n",
        "    BatchNormalization(),\n",
        "    MaxPool2D(pool_size=2,strides=2),\n",
        "    Dropout(0.3),\n",
        "\n",
        "\n",
        "    Conv2D(filters=64,kernel_size=3,strides=1,padding=\"same\",activation=\"relu\"),\n",
        "    BatchNormalization(),\n",
        "    Conv2D(filters=64,kernel_size=3,strides=1,padding=\"same\",activation=\"relu\"),\n",
        "    BatchNormalization(),\n",
        "    MaxPool2D(pool_size=2,strides=2),\n",
        "    Dropout(0.3),\n",
        "\n",
        "\n",
        "\n",
        "    Conv2D(filters=128,kernel_size=3,strides=1,padding=\"same\",activation=\"relu\"),\n",
        "    BatchNormalization(),\n",
        "    Conv2D(filters=128,kernel_size=3,strides=1,padding=\"same\",activation=\"relu\"),\n",
        "    BatchNormalization(),\n",
        "    MaxPool2D(pool_size=2,strides=2),\n",
        "    Dropout(0.3),\n",
        "\n",
        "\n",
        "    Conv2D(filters=256,kernel_size=3,strides=1,padding=\"same\",activation=\"relu\"),\n",
        "    BatchNormalization(),\n",
        "    Conv2D(filters=256,kernel_size=3,strides=1,padding=\"same\",activation=\"relu\"),\n",
        "    BatchNormalization(),\n",
        "    MaxPool2D(pool_size=2,strides=2),\n",
        "    Dropout(0.3),\n",
        "\n",
        "\n",
        "\n",
        "\n",
        "\n",
        "\n",
        "\n",
        "    Flatten(),\n",
        "\n",
        "\n",
        "\n",
        "    Dense(1024,activation=\"relu\"),\n",
        "    Dropout(0.5),\n",
        "\n",
        "\n",
        "    Dense(15,activation=\"softmax\")\n",
        "])\n",
        "\n",
        "\n",
        "model1.summary()"
      ],
      "metadata": {
        "colab": {
          "base_uri": "https://localhost:8080/"
        },
        "id": "TewUxa3oxs0a",
        "outputId": "23f5f9f3-2aaf-4ef1-c0ae-2e06c32285c0"
      },
      "execution_count": 47,
      "outputs": [
        {
          "output_type": "stream",
          "name": "stdout",
          "text": [
            "Model: \"sequential_4\"\n",
            "_________________________________________________________________\n",
            " Layer (type)                Output Shape              Param #   \n",
            "=================================================================\n",
            " conv2d_32 (Conv2D)          (None, 120, 120, 32)      896       \n",
            "                                                                 \n",
            " batch_normalization_32 (Ba  (None, 120, 120, 32)      128       \n",
            " tchNormalization)                                               \n",
            "                                                                 \n",
            " conv2d_33 (Conv2D)          (None, 120, 120, 32)      9248      \n",
            "                                                                 \n",
            " batch_normalization_33 (Ba  (None, 120, 120, 32)      128       \n",
            " tchNormalization)                                               \n",
            "                                                                 \n",
            " max_pooling2d_16 (MaxPooli  (None, 60, 60, 32)        0         \n",
            " ng2D)                                                           \n",
            "                                                                 \n",
            " dropout_3 (Dropout)         (None, 60, 60, 32)        0         \n",
            "                                                                 \n",
            " conv2d_34 (Conv2D)          (None, 60, 60, 64)        18496     \n",
            "                                                                 \n",
            " batch_normalization_34 (Ba  (None, 60, 60, 64)        256       \n",
            " tchNormalization)                                               \n",
            "                                                                 \n",
            " conv2d_35 (Conv2D)          (None, 60, 60, 64)        36928     \n",
            "                                                                 \n",
            " batch_normalization_35 (Ba  (None, 60, 60, 64)        256       \n",
            " tchNormalization)                                               \n",
            "                                                                 \n",
            " max_pooling2d_17 (MaxPooli  (None, 30, 30, 64)        0         \n",
            " ng2D)                                                           \n",
            "                                                                 \n",
            " dropout_4 (Dropout)         (None, 30, 30, 64)        0         \n",
            "                                                                 \n",
            " conv2d_36 (Conv2D)          (None, 30, 30, 128)       73856     \n",
            "                                                                 \n",
            " batch_normalization_36 (Ba  (None, 30, 30, 128)       512       \n",
            " tchNormalization)                                               \n",
            "                                                                 \n",
            " conv2d_37 (Conv2D)          (None, 30, 30, 128)       147584    \n",
            "                                                                 \n",
            " batch_normalization_37 (Ba  (None, 30, 30, 128)       512       \n",
            " tchNormalization)                                               \n",
            "                                                                 \n",
            " max_pooling2d_18 (MaxPooli  (None, 15, 15, 128)       0         \n",
            " ng2D)                                                           \n",
            "                                                                 \n",
            " dropout_5 (Dropout)         (None, 15, 15, 128)       0         \n",
            "                                                                 \n",
            " conv2d_38 (Conv2D)          (None, 15, 15, 256)       295168    \n",
            "                                                                 \n",
            " batch_normalization_38 (Ba  (None, 15, 15, 256)       1024      \n",
            " tchNormalization)                                               \n",
            "                                                                 \n",
            " conv2d_39 (Conv2D)          (None, 15, 15, 256)       590080    \n",
            "                                                                 \n",
            " batch_normalization_39 (Ba  (None, 15, 15, 256)       1024      \n",
            " tchNormalization)                                               \n",
            "                                                                 \n",
            " max_pooling2d_19 (MaxPooli  (None, 7, 7, 256)         0         \n",
            " ng2D)                                                           \n",
            "                                                                 \n",
            " dropout_6 (Dropout)         (None, 7, 7, 256)         0         \n",
            "                                                                 \n",
            " flatten_4 (Flatten)         (None, 12544)             0         \n",
            "                                                                 \n",
            " dense_8 (Dense)             (None, 1024)              12846080  \n",
            "                                                                 \n",
            " dropout_7 (Dropout)         (None, 1024)              0         \n",
            "                                                                 \n",
            " dense_9 (Dense)             (None, 15)                15375     \n",
            "                                                                 \n",
            "=================================================================\n",
            "Total params: 14037551 (53.55 MB)\n",
            "Trainable params: 14035631 (53.54 MB)\n",
            "Non-trainable params: 1920 (7.50 KB)\n",
            "_________________________________________________________________\n"
          ]
        }
      ]
    },
    {
      "cell_type": "code",
      "source": [
        "from tensorflow.keras.optimizers import Adam,SGD\n",
        "from tensorflow.keras.losses import CategoricalCrossentropy\n",
        "from tensorflow.keras.metrics import Accuracy\n",
        "\n",
        "\n"
      ],
      "metadata": {
        "id": "J77OpAw4xwfJ"
      },
      "execution_count": 48,
      "outputs": []
    },
    {
      "cell_type": "code",
      "source": [
        "optimizer = SGD(learning_rate=0.01, momentum=0.9)"
      ],
      "metadata": {
        "id": "zZQr4nk_bBbf"
      },
      "execution_count": 49,
      "outputs": []
    },
    {
      "cell_type": "code",
      "source": [
        "model1.compile(optimizer=optimizer,\n",
        "              loss='categorical_crossentropy',\n",
        "              metrics=['accuracy'],run_eagerly=True)"
      ],
      "metadata": {
        "id": "TzKVEOErx0DA"
      },
      "execution_count": 50,
      "outputs": []
    },
    {
      "cell_type": "code",
      "source": [
        "history=model1.fit(train,validation_data=val,epochs=10,verbose=1)"
      ],
      "metadata": {
        "colab": {
          "base_uri": "https://localhost:8080/"
        },
        "id": "0dGg-MLbx3Ap",
        "outputId": "8c653a9b-8e60-4543-8a50-34c1a068eede"
      },
      "execution_count": 42,
      "outputs": [
        {
          "output_type": "stream",
          "name": "stdout",
          "text": [
            "Epoch 1/10\n",
            "263/263 [==============================] - 296s 993ms/step - loss: 0.1493 - accuracy: 0.9673 - val_loss: 1.9789 - val_accuracy: 0.7394\n",
            "Epoch 2/10\n",
            "263/263 [==============================] - 169s 517ms/step - loss: 0.0090 - accuracy: 0.9976 - val_loss: 1.6766 - val_accuracy: 0.7824\n",
            "Epoch 3/10\n",
            "263/263 [==============================] - 164s 514ms/step - loss: 0.0074 - accuracy: 0.9981 - val_loss: 1.3328 - val_accuracy: 0.7835\n",
            "Epoch 4/10\n",
            "263/263 [==============================] - 163s 506ms/step - loss: 0.0043 - accuracy: 0.9986 - val_loss: 1.7437 - val_accuracy: 0.7722\n",
            "Epoch 5/10\n",
            "263/263 [==============================] - 163s 511ms/step - loss: 0.0026 - accuracy: 0.9995 - val_loss: 1.7525 - val_accuracy: 0.7617\n",
            "Epoch 6/10\n",
            "263/263 [==============================] - 161s 505ms/step - loss: 0.0037 - accuracy: 0.9993 - val_loss: 1.6309 - val_accuracy: 0.7598\n",
            "Epoch 7/10\n",
            "263/263 [==============================] - 168s 530ms/step - loss: 7.7610e-04 - accuracy: 0.9998 - val_loss: 1.4212 - val_accuracy: 0.7939\n",
            "Epoch 8/10\n",
            "263/263 [==============================] - 168s 521ms/step - loss: 3.4025e-04 - accuracy: 0.9999 - val_loss: 1.5067 - val_accuracy: 0.7915\n",
            "Epoch 9/10\n",
            "263/263 [==============================] - 161s 505ms/step - loss: 0.0016 - accuracy: 0.9995 - val_loss: 1.6969 - val_accuracy: 0.8052\n",
            "Epoch 10/10\n",
            "263/263 [==============================] - 162s 507ms/step - loss: 2.1209e-04 - accuracy: 1.0000 - val_loss: 1.6181 - val_accuracy: 0.8036\n"
          ]
        }
      ]
    },
    {
      "cell_type": "code",
      "source": [
        "model1.save('/content/drive/MyDrive/collabone.h5')"
      ],
      "metadata": {
        "id": "B0kwXglq3BWM",
        "colab": {
          "base_uri": "https://localhost:8080/"
        },
        "outputId": "9c5b6e65-3347-461c-a93f-540935c240c6"
      },
      "execution_count": 43,
      "outputs": [
        {
          "output_type": "stream",
          "name": "stderr",
          "text": [
            "/usr/local/lib/python3.10/dist-packages/keras/src/engine/training.py:3103: UserWarning: You are saving your model as an HDF5 file via `model.save()`. This file format is considered legacy. We recommend using instead the native Keras format, e.g. `model.save('my_model.keras')`.\n",
            "  saving_api.save_model(\n"
          ]
        }
      ]
    },
    {
      "cell_type": "code",
      "source": [
        "model1.save('/content/drive/My Drive/collabone.keras')"
      ],
      "metadata": {
        "id": "xkji7wbR_xYZ"
      },
      "execution_count": 44,
      "outputs": []
    },
    {
      "cell_type": "code",
      "source": [
        "plt.plot(history.history['loss'])\n",
        "plt.plot(history.history['val_loss'])\n",
        "plt.legend(['train loss','validation loss'])\n",
        "plt.ylabel(\"loss\")\n",
        "plt.xlabel(\"epoch\")\n",
        "plt.show()\n"
      ],
      "metadata": {
        "id": "ryQNPS88_3j8",
        "colab": {
          "base_uri": "https://localhost:8080/",
          "height": 449
        },
        "outputId": "3b05dc4f-7886-4182-96b3-b955d4070b47"
      },
      "execution_count": 45,
      "outputs": [
        {
          "output_type": "display_data",
          "data": {
            "text/plain": [
              "<Figure size 640x480 with 1 Axes>"
            ],
            "image/png": "[encoded data removed]"
          },
          "metadata": {}
        }
      ]
    },
    {
      "cell_type": "code",
      "source": [
        "plt.plot(history.history['accuracy'])\n",
        "plt.plot(history.history['val_accuracy'])\n",
        "plt.legend(['train accuracy','validation accuracy'])\n",
        "plt.ylabel(\"accuracy\")\n",
        "plt.xlabel(\"epoch\")\n",
        "plt.show()\n"
      ],
      "metadata": {
        "id": "6330JSUuABVt",
        "colab": {
          "base_uri": "https://localhost:8080/",
          "height": 449
        },
        "outputId": "b1b1efaf-df67-4256-b8e8-2183e8dd9491"
      },
      "execution_count": 46,
      "outputs": [
        {
          "output_type": "display_data",
          "data": {
            "text/plain": [
              "<Figure size 640x480 with 1 Axes>"
            ],
            "image/png": "[encoded data removed]"
          },
          "metadata": {}
        }
      ]
    },
    {
      "cell_type": "code",
      "source": [],
      "metadata": {
        "id": "OA0jINnlAEtZ"
      },
      "execution_count": null,
      "outputs": []
    }
  ],
  "metadata": {
    "colab": {
      "provenance": [],
      "gpuType": "T4",
      "authorship_tag": "ABX9TyPFXJey4iuKDK56/ePblvQA",
      "include_colab_link": true
    },
    "kernelspec": {
      "display_name": "Python 3",
      "name": "python3"
    },
    "language_info": {
      "name": "python"
    },
    "accelerator": "GPU"
  },
  "nbformat": 4,
  "nbformat_minor": 0
}