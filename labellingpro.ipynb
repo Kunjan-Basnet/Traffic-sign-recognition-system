{
 "cells": [
  {
   "cell_type": "code",
   "execution_count": 1,
   "id": "05909286-7d4d-48b5-92dd-fdf575d565fe",
   "metadata": {
    "tags": []
   },
   "outputs": [
    {
     "name": "stdout",
     "output_type": "stream",
     "text": [
      "2024-06-11 16:36:16,664 [\u001b[1m\u001b[97mINFO   \u001b[0m] \u001b[36m__init__\u001b[0m:\u001b[36mget_config\u001b[0m:\u001b[36m67\u001b[0m- \u001b[1m\u001b[97mLoading config file from: /Users/aadityaadhikari/.labelmerc\u001b[0m\n"
     ]
    }
   ],
   "source": [
    "!labelme"
   ]
  },
  {
   "cell_type": "code",
   "execution_count": 1,
   "id": "e7b689d7-3ae0-4bf8-9dd5-691eb5f24396",
   "metadata": {},
   "outputs": [],
   "source": [
    "#go to moving labels"
   ]
  },
  {
   "cell_type": "code",
   "execution_count": null,
   "id": "2057d31a-d8ff-4dca-9ba4-732d599f6759",
   "metadata": {},
   "outputs": [],
   "source": []
  }
 ],
 "metadata": {
  "kernelspec": {
   "display_name": "Ftsd",
   "language": "python",
   "name": "ftsd"
  },
  "language_info": {
   "codemirror_mode": {
    "name": "ipython",
    "version": 3
   },
   "file_extension": ".py",
   "mimetype": "text/x-python",
   "name": "python",
   "nbconvert_exporter": "python",
   "pygments_lexer": "ipython3",
   "version": "3.11.5"
  }
 },
 "nbformat": 4,
 "nbformat_minor": 5
}
