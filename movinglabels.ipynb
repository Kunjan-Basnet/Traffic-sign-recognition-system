{
 "cells": [
  {
   "cell_type": "code",
   "execution_count": 1,
   "id": "773c4718-41d4-437e-8650-c17e351f15ec",
   "metadata": {
    "tags": []
   },
   "outputs": [],
   "source": [
    "import os"
   ]
  },
  {
   "cell_type": "code",
   "execution_count": 3,
   "id": "61f0b35e-a862-417d-9e67-59f4d54a2737",
   "metadata": {
    "tags": []
   },
   "outputs": [],
   "source": [
    "\n",
    "for folder in [\"train\",\"valid\"]:\n",
    "    for files in os.listdir(os.path.join(\"data\",folder,\"images\")):\n",
    "        if (files.split(\".\")[1]==\"JPG\"):\n",
    "            my_json_file=files.split(\".\")[0]+\".json\"\n",
    "            if(os.path.exists(os.path.join(\"data\",\"labels\",my_json_file))):\n",
    "                os.replace(os.path.join(\"data\",\"labels\",my_json_file),os.path.join(os.getcwd(),\"data\",folder,\"labels\",my_json_file))\n",
    "        \n"
   ]
  },
  {
   "cell_type": "code",
   "execution_count": null,
   "id": "71e11bbc-8c35-495e-b491-04834993d4d2",
   "metadata": {},
   "outputs": [],
   "source": []
  }
 ],
 "metadata": {
  "kernelspec": {
   "display_name": "fftsd",
   "language": "python",
   "name": "fftsd"
  },
  "language_info": {
   "codemirror_mode": {
    "name": "ipython",
    "version": 3
   },
   "file_extension": ".py",
   "mimetype": "text/x-python",
   "name": "python",
   "nbconvert_exporter": "python",
   "pygments_lexer": "ipython3",
   "version": "3.11.5"
  }
 },
 "nbformat": 4,
 "nbformat_minor": 5
}
